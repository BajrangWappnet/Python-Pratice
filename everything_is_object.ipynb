{
 "cells": [
  {
   "attachments": {},
   "cell_type": "markdown",
   "metadata": {},
   "source": [
    "## Everything in python is object\n",
    "##### Numbers, lists, strings, functions, modules, and everything else in python is an object. Even attributes and methods of an object are objects."
   ]
  },
  {
   "cell_type": "code",
   "execution_count": 2,
   "metadata": {},
   "outputs": [
    {
     "name": "stdout",
     "output_type": "stream",
     "text": [
      "bajrang\n",
      "<class 'str'>\n",
      "<class 'int'>\n",
      "<class 'builtin_function_or_method'>\n"
     ]
    }
   ],
   "source": [
    "#Type() returns the type of the object that is the class of which it is the object.\n",
    "\n",
    "name = \"Bajrang\"  #Creating object as a vairiable with \"name\"\n",
    "number = 23\n",
    "\n",
    "print(name.lower()) # Calling method lower on object\n",
    "print(type(name))\n",
    "print(type(number))\n",
    "print(type(name.lower))  \n",
    "#Which shows even the attributes and methods  of builtin functions  are called as an object itself\n",
    "# Which shows String and Int are also objects of class Str and int "
   ]
  },
  {
   "attachments": {},
   "cell_type": "markdown",
   "metadata": {},
   "source": [
    "### Mutable and Immutable Objeets\n"
   ]
  },
  {
   "cell_type": "code",
   "execution_count": 43,
   "metadata": {},
   "outputs": [
    {
     "name": "stdout",
     "output_type": "stream",
     "text": [
      "Address of number_list 2897030010368\n",
      "Addresss of dictionary 2897030236544\n",
      "2899072845424\n",
      "This is new list with updated value \n",
      "[5, 4, 45, 8, 10] \n",
      "Address is 2897030010368\n",
      "This is new list with updated value \n",
      "{1: 'Mango', 2: 'Cherry', 3: 'Blue Berry'} \n",
      "Address is 2897030236544\n"
     ]
    }
   ],
   "source": [
    "#Mutable Objects are those which can  be updated but its address don't change like list and dictionaries\n",
    "# Id are those which provide unique id of the object when is created\n",
    "# Those objects whose value can be adjust but its id remain same\n",
    "\n",
    "number_list = [5, 4, 5, 8, 10] # Initiating object with values as a list\n",
    "fruit_dict = {1: \"Orange\", 2: \"Cherry\", 3: \"Blue Berry\"} # Initiating object with as dictionary\n",
    "print(f\"Address of number_list {id(number_list)}\")  #Callling function ID for address \n",
    "print(f\"Addresss of dictionary {id(fruit_dict)}\") \n",
    "\n",
    "number_list[2] = 45\n",
    "# print(id(number_list[2]))\n",
    "print(f\"This is new list with updated value \\n{number_list} \\nAddress is {id(number_list)}\")\n",
    "\n",
    "fruit_dict[1] = \"Mango\"\n",
    "print(f\"This is new list with updated value \\n{fruit_dict} \\nAddress is {id(fruit_dict)}\")\n",
    "\n",
    "# Address Remain same when we updated values in mutable objects.\n"
   ]
  },
  {
   "cell_type": "code",
   "execution_count": 44,
   "metadata": {},
   "outputs": [
    {
     "name": "stdout",
     "output_type": "stream",
     "text": [
      "Address of name is 2897003972144\n",
      "Address of marks is 2899072847152\n",
      "Updated address of name is 2897004008240\n",
      "Updated address of marks is 2899072846704\n"
     ]
    }
   ],
   "source": [
    "# Immutable objects are those which can't be mobified like tuples, string , integer.\n",
    "\n",
    "name = \"Bajrang\" # Created name object  with string value\n",
    "marks = 99       # Created marks object with int value\n",
    "\n",
    "print(f\"Address of name is {id(name)}\")\n",
    "print(f\"Address of marks is {id(marks)}\")\n",
    "\n",
    "\"\"\" name[2] = \"Rohan\"\n",
    " print(name)\"\"\"\n",
    "\n",
    " # In the above code when we try to manupluate value of name  it showing error because they cant be mutable\n",
    "\n",
    "marks = 85 # Assigning different value to marks object \n",
    "name = \"Rohan\" # Assigning different value to name object \n",
    "print(f\"Updated address of name is {id(name)}\") # It will show different address \n",
    "print(f\"Updated address of marks is {id(marks)}\")  #It will show different address \n",
    "\n",
    "# This is happened because its new value is assigned to new object with the same name , so that's why it is called as Immutable."
   ]
  },
  {
   "cell_type": "code",
   "execution_count": 45,
   "metadata": {},
   "outputs": [
    {
     "name": "stdout",
     "output_type": "stream",
     "text": [
      "Tuple is (45, 48, 33, [36, 12, 85, 12], 66)\n",
      "Address of the tuple with list object is 2897029908416 \n",
      "New tuple after mutating is (45, 48, 33, [36, 9, 85, 12], 66)\n",
      "Address of the tuple after mutating is 2897029908416 \n"
     ]
    }
   ],
   "source": [
    "# Tuples are also Immutable objects\n",
    "\n",
    "tuple_with_list = (45, 48, 33, [36, 12, 85, 12], 66) # Initializing tuple\n",
    "print(f\"Tuple is {tuple_with_list}\")\n",
    "print(f\"Address of the tuple with list object is {id(tuple_with_list)} \")\n",
    "\n",
    "# Mutating the list inside tuple\n",
    "\n",
    "\"\"\" Address remain same but it updated old tuple object \n",
    "   with new value this is happend because tuple is immutable.\n",
    "   If we try to update values in normal way either it will change its value \n",
    "   or it may cause an error \"\"\"\n",
    "\n",
    "\n",
    "\n",
    "tuple_with_list[3][1] = 9\n",
    "print(f\"New tuple after mutating is {tuple_with_list}\")\n",
    "print(f\"Address of the tuple after mutating is {id(tuple_with_list)} \") \n",
    "\n",
    "\n"
   ]
  },
  {
   "cell_type": "code",
   "execution_count": 35,
   "metadata": {},
   "outputs": [
    {
     "name": "stdout",
     "output_type": "stream",
     "text": [
      "Name of Elephant is Hansraj\n",
      "Age of Elephant is 12\n",
      "<class 'str'>\n",
      "<class 'int'>\n"
     ]
    }
   ],
   "source": [
    "class Elephant():\n",
    "\n",
    "    # Initializes \n",
    "    def __init__(self, name, age):\n",
    "        self.name = name #Attributes\n",
    "        self.age = age #Attributes\n",
    "\n",
    "elephant = Elephant(\"Hansraj\",12)\n",
    "print(f\"Name of Elephant is {elephant.name}\")\n",
    "print(f\"Age of Elephant is {elephant.age}\")\n",
    "print(type(elephant.name))  #This show that name object showing as Class string \n",
    "print(type(elephant.age)) #This show that age object showing as Class string "
   ]
  }
 ],
 "metadata": {
  "kernelspec": {
   "display_name": "Python 3",
   "language": "python",
   "name": "python3"
  },
  "language_info": {
   "codemirror_mode": {
    "name": "ipython",
    "version": 3
   },
   "file_extension": ".py",
   "mimetype": "text/x-python",
   "name": "python",
   "nbconvert_exporter": "python",
   "pygments_lexer": "ipython3",
   "version": "3.10.4"
  },
  "orig_nbformat": 4,
  "vscode": {
   "interpreter": {
    "hash": "27f6fea6f47ae512550f0b8facdbd035a93e1dd89633f7bf2dd00a2502c71d0d"
   }
  }
 },
 "nbformat": 4,
 "nbformat_minor": 2
}
